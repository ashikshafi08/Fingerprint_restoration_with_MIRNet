{
  "nbformat": 4,
  "nbformat_minor": 0,
  "metadata": {
    "colab": {
      "name": "Training_Notebook.ipynb",
      "provenance": [],
      "collapsed_sections": [],
      "machine_shape": "hm",
      "authorship_tag": "ABX9TyNnh3DK2MSgeRXGmvuMqY8G",
      "include_colab_link": true
    },
    "kernelspec": {
      "name": "python3",
      "display_name": "Python 3"
    },
    "language_info": {
      "name": "python"
    },
    "accelerator": "GPU"
  },
  "cells": [
    {
      "cell_type": "markdown",
      "metadata": {
        "id": "view-in-github",
        "colab_type": "text"
      },
      "source": [
        "<a href=\"https://colab.research.google.com/github/ashikshafi08/Fingerprint_restoration_with_MIRNet/blob/main/Training_Notebook.ipynb\" target=\"_parent\"><img src=\"https://colab.research.google.com/assets/colab-badge.svg\" alt=\"Open In Colab\"/></a>"
      ]
    },
    {
      "cell_type": "code",
      "execution_count": null,
      "metadata": {
        "colab": {
          "base_uri": "https://localhost:8080/"
        },
        "id": "4EEkIHGBtRmj",
        "outputId": "827c9842-652f-4edb-cd77-a9ea9455fa68"
      },
      "outputs": [
        {
          "output_type": "stream",
          "name": "stdout",
          "text": [
            "Mounted at /content/drive/\n"
          ]
        }
      ],
      "source": [
        "from google.colab import drive \n",
        "drive._mount('/content/drive/')"
      ]
    },
    {
      "cell_type": "code",
      "source": [
        "# Training data \n",
        "!wget http://158.109.8.102/Inpainting/Track3/training_input.zip\n",
        "!wget http://158.109.8.102/Inpainting/Track3/training_ground-truth.zip"
      ],
      "metadata": {
        "id": "kh_WMg1owaRh",
        "colab": {
          "base_uri": "https://localhost:8080/"
        },
        "outputId": "699434af-bbdd-4071-8640-44ce441e2691"
      },
      "execution_count": 7,
      "outputs": [
        {
          "output_type": "stream",
          "name": "stdout",
          "text": [
            "--2022-05-16 21:30:44--  http://158.109.8.102/Inpainting/Track3/training_input.zip\n",
            "Connecting to 158.109.8.102:80... connected.\n",
            "HTTP request sent, awaiting response... 200 OK\n",
            "Length: 2579851470 (2.4G) [application/zip]\n",
            "Saving to: ‘training_input.zip’\n",
            "\n",
            "training_input.zip  100%[===================>]   2.40G  23.9MB/s    in 2m 5s   \n",
            "\n",
            "2022-05-16 21:32:50 (19.6 MB/s) - ‘training_input.zip’ saved [2579851470/2579851470]\n",
            "\n",
            "--2022-05-16 21:32:50--  http://158.109.8.102/Inpainting/Track3/training_ground-truth.zip\n",
            "Connecting to 158.109.8.102:80... connected.\n",
            "HTTP request sent, awaiting response... 200 OK\n",
            "Length: 2551253143 (2.4G) [application/zip]\n",
            "Saving to: ‘training_ground-truth.zip’\n",
            "\n",
            "training_ground-tru 100%[===================>]   2.38G  7.13MB/s    in 2m 29s  \n",
            "\n",
            "2022-05-16 21:35:19 (16.4 MB/s) - ‘training_ground-truth.zip’ saved [2551253143/2551253143]\n",
            "\n"
          ]
        }
      ]
    },
    {
      "cell_type": "code",
      "source": [
        "# !unzip training_input.zip -d /content/drive/MyDrive/FingerPrint\n",
        "# !unzip training_ground-truth.zip -d /content/drive/MyDrive/FingerPrint"
      ],
      "metadata": {
        "id": "jwwTE79Nx9RC"
      },
      "execution_count": null,
      "outputs": []
    },
    {
      "cell_type": "code",
      "source": [
        "import glob\n",
        "import os \n",
        " # Data paths \n",
        "\n",
        "train_input_path = '/content/drive/MyDrive/FingerPrint/training_input/'\n",
        "train_ground_path = '/content/drive/MyDrive/FingerPrint/training_ground-truth/'\n",
        "\n",
        "#val_input_path = '/content/drive/MyDrive/final_year/validation_input/'\n",
        "#val_ground_path = '/content/drive/MyDrive/final_year/validation_ground-truth/'"
      ],
      "metadata": {
        "id": "dE7LoWHozBik"
      },
      "execution_count": 9,
      "outputs": []
    },
    {
      "cell_type": "code",
      "source": [
        "trainInputPaths = sorted(glob.glob(os.path.join(train_input_path , '*.jpg')))[:8000]\n",
        "trainGroundPaths = sorted(glob.glob(os.path.join(train_ground_path , '*.jpg')))[:8000]\n",
        "\n",
        "\n",
        "valInputPaths = sorted(glob.glob(os.path.join(train_input_path , '*.jpg')))[8000:9000]\n",
        "valGroundPaths = sorted(glob.glob(os.path.join(train_ground_path , '*.jpg')))[8000:9000]\n"
      ],
      "metadata": {
        "id": "LzicIC-j7ylt"
      },
      "execution_count": 101,
      "outputs": []
    },
    {
      "cell_type": "code",
      "source": [
        "len(trainInputPaths) , len(trainGroundPaths) , len(valInputPaths) , len(valGroundPaths)"
      ],
      "metadata": {
        "colab": {
          "base_uri": "https://localhost:8080/"
        },
        "id": "DY5bHqzW71z3",
        "outputId": "95dfae64-9961-4b9d-d796-676793592ea5"
      },
      "execution_count": 102,
      "outputs": [
        {
          "output_type": "execute_result",
          "data": {
            "text/plain": [
              "(8000, 8000, 1000, 1000)"
            ]
          },
          "metadata": {},
          "execution_count": 102
        }
      ]
    },
    {
      "cell_type": "code",
      "source": [
        "# Random crop function from the tensorflow \n",
        "\n",
        "def tf_random_crop(image):\n",
        "  cropped_image = tf.image.random_crop(\n",
        "      image, size=[124, 124, 3])\n",
        "\n",
        "  return cropped_image\n",
        "\n",
        "def read_image(image_path):\n",
        "\n",
        "  '''\n",
        "  image_path : path of the image \n",
        "\n",
        "  '''\n",
        "\n",
        "  image = tf.io.read_file(image_path) # read the path \n",
        "  image = tf.image.decode_jpeg(image , channels = 3) # decode into jpeg  \n",
        "  image = tf.image.resize(image , [128 , 128]) # resize the image \n",
        "  return image"
      ],
      "metadata": {
        "id": "YvmzXGZs76qR"
      },
      "execution_count": 103,
      "outputs": []
    },
    {
      "cell_type": "code",
      "source": [
        "# Function to load the data and apply the transforms \n",
        "\n",
        "def load_data(noise_image_path , truth_image_path):\n",
        "\n",
        "  noise_image = read_image(noise_image_path)\n",
        "  truth_image = read_image(truth_image_path)\n",
        "\n",
        "  #cropped_noise_image = tf_random_crop(noise_image)\n",
        "  #cropped_truth_image = tf_random_crop(truth_image)\n",
        "\n",
        "  return noise_image , truth_image\n"
      ],
      "metadata": {
        "id": "XnBF0j3c9CQx"
      },
      "execution_count": 104,
      "outputs": []
    },
    {
      "cell_type": "code",
      "source": [
        "\n",
        "# Setting up the parameters \n",
        "IMAGE_SIZE = 128\n",
        "BATCH_SIZE = 16"
      ],
      "metadata": {
        "id": "4Lh3kHEa9eDa"
      },
      "execution_count": 123,
      "outputs": []
    },
    {
      "cell_type": "code",
      "source": [
        "# Function to make the tf.data.Dataset \n",
        "import tensorflow as tf\n",
        "\n",
        "def get_dataset(noise_image_paths , truth_image_paths):\n",
        "\n",
        "  dataset = tf.data.Dataset.from_tensor_slices((noise_image_paths , truth_image_paths))\n",
        "\n",
        "  # Need to apply the transforms \n",
        "  dataset = dataset.map(load_data , num_parallel_calls = tf.data.AUTOTUNE)\n",
        "  dataset = dataset.batch(BATCH_SIZE , drop_remainder= True).cache().prefetch(tf.data.AUTOTUNE)\n",
        "  \n",
        "  return dataset"
      ],
      "metadata": {
        "id": "TgPjyfCu9W45"
      },
      "execution_count": 106,
      "outputs": []
    },
    {
      "cell_type": "code",
      "source": [
        "# Creating the dataset \n",
        "from tensorflow.keras import layers \n",
        "\n",
        "train_dataset = get_dataset(trainInputPaths , trainGroundPaths)\n",
        "val_dataset = get_dataset(valInputPaths , valGroundPaths)\n",
        "\n",
        "print(f'Train Dataset --> {train_dataset}')\n",
        "print('\\n')\n",
        "print(f'Val Dataset --> {val_dataset}')"
      ],
      "metadata": {
        "colab": {
          "base_uri": "https://localhost:8080/"
        },
        "id": "6J81EYXl9f4j",
        "outputId": "d433c5e5-52f4-40f3-ee20-f9750fffe5ca"
      },
      "execution_count": 107,
      "outputs": [
        {
          "output_type": "stream",
          "name": "stdout",
          "text": [
            "Train Dataset --> <PrefetchDataset element_spec=(TensorSpec(shape=(8, 128, 128, 3), dtype=tf.float32, name=None), TensorSpec(shape=(8, 128, 128, 3), dtype=tf.float32, name=None))>\n",
            "\n",
            "\n",
            "Val Dataset --> <PrefetchDataset element_spec=(TensorSpec(shape=(8, 128, 128, 3), dtype=tf.float32, name=None), TensorSpec(shape=(8, 128, 128, 3), dtype=tf.float32, name=None))>\n"
          ]
        }
      ]
    },
    {
      "cell_type": "code",
      "source": [
        "def selective_kernel_feature_fusion(multi_scale_feature_1 , \n",
        "                                    multi_scale_feature_2 , multi_scale_feature_3):\n",
        "  \n",
        "\n",
        "  '''\n",
        "  Performs multi-scale aggregation of the features\n",
        "  '''\n",
        "\n",
        "  ##### Fuse Operator ######\n",
        "  ##########################\n",
        "\n",
        "  # Shape of the multi-scale shape == number of channels\n",
        "  channels = list(multi_scale_feature_1.shape)[-1]\n",
        "\n",
        "  # Combining the feature by element wise summation \n",
        "  # L = L1 + L2 + L3\n",
        "  combined_features = layers.Add()([multi_scale_feature_1 , multi_scale_feature_2 , multi_scale_feature_3])\n",
        "                                  \n",
        "\n",
        "  # Passing the L to the global averale pooling and compute across spatial dimension (HxW)\n",
        "  gap = layers.GlobalAveragePooling2D()(combined_features)\n",
        "\n",
        "  # Channel-wise statistics (s) [1x1xC] \n",
        "  channel_wise_stats = tf.reshape(gap , shape = (-1 , 1 , 1 , channels))\n",
        "\n",
        "  # Channel downscaling cnn to generate compact feature representation \n",
        "  # r = C / 8 \n",
        "  compact_feature_representation = layers.Conv2D(filters = channels // 8 , kernel_size = (1 , 1 )  , activation = 'relu')(channel_wise_stats)\n",
        "\n",
        "  # Applying the PRelu for the above \n",
        "  #pRelu = layers.PReLU()(compact_feature_representation)\n",
        "\n",
        "\n",
        "  ##### Select Operator ######\n",
        "  ############################ \n",
        "\n",
        "  # Here we parse out each feature descriptors and apply softmax to them \n",
        "  feature_descriptor_1 = layers.Conv2D(\n",
        "      filters = channels , kernel_size = (1,1) , activation = 'softmax'\n",
        "  )(compact_feature_representation)\n",
        "  feature_descriptor_2 = layers.Conv2D(\n",
        "      filters = channels , kernel_size = (1 ,1) , activation = 'softmax'\n",
        "  )(compact_feature_representation)\n",
        "  feature_descriptor_3 = layers.Conv2D(\n",
        "      channels , kernel_size = (1 , 1) , activation = 'softmax'\n",
        "  )(compact_feature_representation)\n",
        "\n",
        "  # Now we get the features by rescaling it \n",
        "  # input tensor * feature descriptor \n",
        "  feature_1 = multi_scale_feature_1 * feature_descriptor_1 # s1 * L1 \n",
        "  feature_2 = multi_scale_feature_2 * feature_descriptor_2 # s2 * L2 \n",
        "  feature_3 = multi_scale_feature_3 * feature_descriptor_3 # s3 * L3\n",
        "\n",
        "  # U = L1*s1 + s2*L2 + s3*L3\n",
        "  # This is the overall process of feature recali and aggregation \n",
        "  aggregated_feature = layers.Add()([feature_1 , feature_2 , feature_3])\n",
        "\n",
        "  return aggregated_feature"
      ],
      "metadata": {
        "id": "5XYwdRS-9iok"
      },
      "execution_count": 108,
      "outputs": []
    },
    {
      "cell_type": "code",
      "source": [
        "# Lets build a function for the spatial attention block \n",
        "\n",
        "def spatial_attention_block(input_tensor):\n",
        "\n",
        "  average_pooling = tf.reduce_mean(input_tensor  , axis = -1)\n",
        "  average_pooling = tf.expand_dims(average_pooling , axis = -1)\n",
        "\n",
        "  max_pooling = tf.reduce_max(input_tensor , axis = -1)\n",
        "  max_pooling = tf.expand_dims(max_pooling , axis = -1)\n",
        "\n",
        "  \n",
        "\n",
        "  # Performing the C \n",
        "  # Concatenate by the last axis\n",
        "  concatenation = layers.Concatenate(axis = -1)([average_pooling , max_pooling])\n",
        "\n",
        "  # Passing the feature map [HXWx2] into a CNN\n",
        "  feature_map = layers.Conv2D(1 , kernel_size = (1 ,1 ))(concatenation)\n",
        "\n",
        "  # Appling sigmoid function to the feature map \n",
        "  feature_map = tf.nn.sigmoid(feature_map)\n",
        "\n",
        "  # F cap * M \n",
        "  return input_tensor * feature_map\n"
      ],
      "metadata": {
        "id": "4u4zbieK-C-8"
      },
      "execution_count": 109,
      "outputs": []
    },
    {
      "cell_type": "code",
      "source": [
        "# Function for the channel attention block \n",
        "\n",
        "def channel_attention_block(input_tensor):\n",
        "\n",
        "  channels = list(input_tensor.shape)[-1]\n",
        "\n",
        "  # Applying the GAP \n",
        "  average_pooling = layers.GlobalAveragePooling2D()(input_tensor)\n",
        "\n",
        "  # Reshaping of shape (1x1xC) for the feature descriptor \n",
        "  feature_descriptor = tf.reshape(average_pooling , shape = (-1 , 1 , 1, channels)) # 1x1xC\n",
        "\n",
        "  # r = C / 8 \n",
        "  feature_activations = layers.Conv2D(\n",
        "      filters = channels // 8 , kernel_size = (1 , 1)  , activation = 'relu')(feature_descriptor)\n",
        "\n",
        " # pRelu = layers.PReLU()(feature_activations)\n",
        "\n",
        "  sigFeature_activations = layers.Conv2D(channels , kernel_size = (1 ,1 ) , activation = 'sigmoid')(feature_activations)\n",
        "\n",
        "  # Rescaling the features \n",
        "  return input_tensor * sigFeature_activations"
      ],
      "metadata": {
        "id": "o5gEeTDF-FIf"
      },
      "execution_count": 110,
      "outputs": []
    },
    {
      "cell_type": "code",
      "source": [
        "# Constructing the Dual Attention Block \n",
        "\n",
        "def dual_attention_unit_block(input_tensor):\n",
        "\n",
        "  channels = list(input_tensor.shape)[-1]\n",
        "\n",
        "  feature_map = layers.Conv2D(channels , kernel_size = (3,3) , padding = 'same' , activation= 'relu')(input_tensor)\n",
        "  #feature_map = layers.PReLU()(feature_map)\n",
        "  \n",
        "  feature_map = layers.Conv2D(channels , kernel_size = (3 ,3) , padding = 'same')(feature_map)\n",
        "\n",
        "  # Configuring the channel attention and spatial attention \n",
        "  channel_attention = channel_attention_block(feature_map)\n",
        "  spatial_attention = spatial_attention_block(feature_map)\n",
        "\n",
        "  # Performing the concat where we will combine both the attention maps \n",
        "  concat = layers.Concatenate(axis = -1)([channel_attention , spatial_attention])\n",
        "  \n",
        "  # Applying a final Conv layer \n",
        "  concat = layers.Conv2D(channels , kernel_size = (1 , 1))(concat)\n",
        "\n",
        "  # Rescaling the output with the input tensor \n",
        "  rescaleFeature = layers.Add()([input_tensor , concat])\n",
        "\n",
        "  return rescaleFeature\n"
      ],
      "metadata": {
        "id": "U4lBhJlk-Hug"
      },
      "execution_count": 111,
      "outputs": []
    },
    {
      "cell_type": "code",
      "source": [
        "# Downsampling module\n",
        "\n",
        "def downsample_module(input_tensor):\n",
        "\n",
        "  # color channels \n",
        "  channels = list(input_tensor.shape)[-1]\n",
        "\n",
        "  # First Conv + PReLU combo \n",
        "  main_branch = layers.Conv2D(channels , kernel_size = (1 , 1) , activation= 'relu')(input_tensor)\n",
        "  #main_branch = layers.PReLU()(main_branch)\n",
        "\n",
        "  # Conv2D 3 kernel and PRelu \n",
        "  main_branch = layers.Conv2D(channels , kernel_size = (3 ,3), padding = 'same' , activation= 'relu')(main_branch)\n",
        "  #main_branch = layers.PReLU()(main_branch)\n",
        "\n",
        "  # Antialiasing down sampling is nothing but a maxpooling \n",
        "  main_branch = layers.MaxPooling2D()(main_branch)\n",
        "\n",
        "\n",
        "  #### Performing 2x downsampling ####\n",
        "  ####################################\n",
        "\n",
        "  # Conv2D 1 kernel \n",
        "  main_branch = layers.Conv2D(channels * 2 , kernel_size = (1, 1))(main_branch)\n",
        "\n",
        "\n",
        "  ## Skip Connection \n",
        "\n",
        "  # Another Anti aliasing and Conv2D downsample (skip branch)\n",
        "  skip_branch = layers.MaxPooling2D()(input_tensor)\n",
        "  skip_branch = layers.Conv2D(channels * 2 , kernel_size = (1 ,1))(skip_branch)\n",
        "\n",
        "  skip_connection = layers.Add()([skip_branch , main_branch])\n",
        "\n",
        "  return skip_connection\n",
        "\n",
        "\n",
        "# Upsampling module \n",
        "\n",
        "def upsampling_module(input_tensor):\n",
        "\n",
        "  channels = list(input_tensor.shape)[-1]\n",
        "\n",
        "  main_branch = layers.Conv2D(channels  , kernel_size = (1, 1) , activation = 'relu')(input_tensor)\n",
        "  #main_branch = layers.PReLU()(main_branch)\n",
        "\n",
        "  main_branch = layers.Conv2D(channels , kernel_size = (3 ,3), padding ='same' , activation= 'relu')(main_branch)\n",
        "  #main_branch = layers.PReLU()(main_branch)\n",
        "\n",
        "  # Performing the Bilinear Upsampling and passing into a Conv2D layer\n",
        "  main_branch = layers.UpSampling2D()(main_branch)\n",
        "  main_branch = layers.Conv2D(channels // 2 , kernel_size = (1 ,1))(main_branch)\n",
        "\n",
        "  #### Skip Conection #### \n",
        "\n",
        "  skip_branch = layers.UpSampling2D()(input_tensor)\n",
        "  skip_branch = layers.Conv2D(channels // 2 , kernel_size = (1, 1))(skip_branch)\n",
        "\n",
        "  skip_connection = layers.Add()([skip_branch , main_branch])\n",
        "  return skip_connection"
      ],
      "metadata": {
        "id": "Rb9K8MvG-JJL"
      },
      "execution_count": 112,
      "outputs": []
    },
    {
      "cell_type": "code",
      "source": [
        "# Constructing the MRB Block \n",
        "\n",
        "def multi_scale_residual_block(input_tensor , channels):\n",
        "\n",
        "  ##### Feature Maps ######\n",
        "  ######################### \n",
        "\n",
        "  level_1 = input_tensor\n",
        "  level_2 = downsample_module(input_tensor) # 2 X down sampling \n",
        "  level_3 = downsample_module(level_2) # 4 x down sampling \n",
        "\n",
        "  #### Passing into DAU Blocks ####\n",
        "  #################################\n",
        "\n",
        "  level_1_dau = dual_attention_unit_block(level_1)\n",
        "  level_2_dau = dual_attention_unit_block(level_2)\n",
        "  level_3_dau = dual_attention_unit_block(level_3)\n",
        "\n",
        "  ###### Passing the output Features from DAU to SKFF with different scalings ########\n",
        "  ####################################################################################\n",
        "\n",
        "  # SKFF for the level 1,2,3 output from DAU \n",
        "  # Got doubts on this -> mail or reach out to the author\n",
        "  level_1_skff  = selective_kernel_feature_fusion(level_1_dau , upsampling_module(level_2_dau) , \n",
        "                                                  upsampling_module(upsampling_module(level_3_dau)))\n",
        "  \n",
        "  level_2_skff = selective_kernel_feature_fusion(downsample_module(level_1_dau) , \n",
        "                                                 level_2_dau , upsampling_module(level_3_dau))\n",
        "  \n",
        "  level_3_skff = selective_kernel_feature_fusion(downsample_module(downsample_module(level_1_dau)) , \n",
        "                                                 downsample_module(level_2_dau) , \n",
        "                                                 level_3_dau)\n",
        "  \n",
        "  # Passing the skff features to DAU again and applying the scaling \n",
        "  level_1_dau2 = dual_attention_unit_block(level_1_skff)\n",
        "  level_2_dau2 = upsampling_module(dual_attention_unit_block(level_2_skff))\n",
        "  level_3_dau2 = upsampling_module(upsampling_module(dual_attention_unit_block(level_3_skff)))  \n",
        "\n",
        "\n",
        "  # Atlast passing everything into a skff \n",
        "  skff_ = selective_kernel_feature_fusion(level_1_dau2 , level_2_dau2 , level_3_dau2) # TK: Doubt \n",
        "\n",
        "  # A conv layer \n",
        "  conv = layers.Conv2D(channels , kernel_size = (3 ,3) , padding ='same')(skff_)\n",
        "\n",
        "  # Residual connection \n",
        "  output = layers.Add()([input_tensor ,  conv])\n",
        "  return output"
      ],
      "metadata": {
        "id": "pOqjBPvR-NdU"
      },
      "execution_count": 113,
      "outputs": []
    },
    {
      "cell_type": "code",
      "source": [
        "def recursive_residual_group(input_tensor , number_of_mrb, channels):\n",
        "\n",
        "  # First conv layer \n",
        "  conv_1 = layers.Conv2D(channels , kernel_size = (3 ,3) , padding = 'same')(input_tensor)\n",
        "\n",
        "  # For P number of MRBs \n",
        "  for _ in range(number_of_mrb):\n",
        "    conv_1 = multi_scale_residual_block(conv_1 , channels)\n",
        "\n",
        "  conv_2 = layers.Conv2D(channels , kernel_size= (3,3) , padding = 'same')(conv_1)\n",
        "\n",
        "  return layers.Add()([conv_2 , input_tensor])\n"
      ],
      "metadata": {
        "id": "D-IXDW3O-SLl"
      },
      "execution_count": 114,
      "outputs": []
    },
    {
      "cell_type": "code",
      "source": [
        "def mirnet_model(number_of_rrg , number_of_mrb , channels):\n",
        "\n",
        "  # Getting the input tensor of image \n",
        "  input_tensor = tf.keras.Input(shape = (128 , 128 , 3))\n",
        "\n",
        "  # First Conv layer (X0)\n",
        "  x1 = layers.Conv2D(channels , kernel_size = (3 ,3) , padding = 'same')(input_tensor)\n",
        "\n",
        "  # Looping into the N number of RRGs \n",
        "  for _ in range(number_of_rrg):\n",
        "\n",
        "    x1 = recursive_residual_group(x1 , number_of_mrb , channels)\n",
        "\n",
        "  # Applying the Conv layer on Xd\n",
        "  conv = layers.Conv2D(3 , kernel_size = (3 ,3) , padding ='same')(x1)\n",
        "\n",
        "  # Skip connection to the I cap \n",
        "  output_tensor = layers.Add()([input_tensor , conv])\n",
        "\n",
        "  # Pack this into a model \n",
        "  model = tf.keras.Model(input_tensor , output_tensor)\n",
        "\n",
        "  return model"
      ],
      "metadata": {
        "id": "8fWd_G6D-YL7"
      },
      "execution_count": 116,
      "outputs": []
    },
    {
      "cell_type": "code",
      "source": [
        "# Lets create model \n",
        "\n",
        "model = mirnet_model(2 , 2 , channels = 64)"
      ],
      "metadata": {
        "id": "X4fwvY-Y-aDg"
      },
      "execution_count": 119,
      "outputs": []
    },
    {
      "cell_type": "code",
      "source": [
        "# Defining the loss functions \n",
        "def charbonnier_loss(y_true , y_pred):\n",
        "  loss =  tf.reduce_mean(tf.sqrt(tf.square(y_true - y_pred) + tf.square(1e-3))) # reduce mean because we are computing in batches \n",
        "  return loss\n",
        "\n",
        "# Metrics to calculate the psnr ratio. \n",
        "def peak_signal_noise_ratio(y_true , y_pred):\n",
        "  return tf.image.psnr(y_pred , y_true , max_val = 255.0)\n",
        "\n",
        "def structual_similarity_index(y_true , y_pred):\n",
        "  return tf.image.ssim(y_pred , y_true , max_val = 255.0)"
      ],
      "metadata": {
        "id": "Bt36wM6j-fQi"
      },
      "execution_count": 120,
      "outputs": []
    },
    {
      "cell_type": "code",
      "source": [
        "# Compiling the model \n",
        "\n",
        "optimizer = tf.keras.optimizers.Adam(learning_rate = 2e-4)\n",
        "\n",
        "model.compile(optimizer = optimizer , loss = charbonnier_loss , \n",
        "              metrics = [peak_signal_noise_ratio , structual_similarity_index])"
      ],
      "metadata": {
        "id": "C9XeF7rH-h46"
      },
      "execution_count": 126,
      "outputs": []
    },
    {
      "cell_type": "code",
      "source": [
        "history = model.fit(train_dataset , \n",
        "                    validation_data = val_dataset , \n",
        "                    epochs = 5 )"
      ],
      "metadata": {
        "colab": {
          "base_uri": "https://localhost:8080/"
        },
        "id": "LEjUFmyV-jNa",
        "outputId": "a96e6d3a-565d-4d85-9832-32b493dde261"
      },
      "execution_count": null,
      "outputs": [
        {
          "output_type": "stream",
          "name": "stdout",
          "text": [
            "Epoch 1/5\n",
            "1000/1000 [==============================] - 851s 821ms/step - loss: 41.1488 - peak_signal_noise_ratio: 13.3827 - structual_similarity_index: 0.4607 - val_loss: 33.2238 - val_peak_signal_noise_ratio: 14.3772 - val_structual_similarity_index: 0.5689\n",
            "Epoch 2/5\n",
            " 107/1000 [==>...........................] - ETA: 11:40 - loss: 32.5842 - peak_signal_noise_ratio: 14.5490 - structual_similarity_index: 0.5813"
          ]
        }
      ]
    },
    {
      "cell_type": "code",
      "source": [
        "import matplotlib.pyplot as plt\n",
        "\n",
        "\n",
        "plt.plot(history.history[\"loss\"], label=\"train_loss\")\n",
        "plt.plot(history.history[\"val_loss\"], label=\"val_loss\")\n",
        "plt.xlabel(\"Epochs\")\n",
        "plt.ylabel(\"Loss\")\n",
        "plt.title(\"Train and Validation Losses Over Epochs\", fontsize=14)\n",
        "plt.legend()\n",
        "plt.grid()\n",
        "plt.show()\n",
        "\n",
        "print('\\n \\n')\n",
        "\n",
        "\n",
        "plt.plot(history.history[\"peak_signal_noise_ratio\"], label=\"train_psnr\")\n",
        "plt.plot(history.history[\"val_peak_signal_noise_ratio\"], label=\"val_psnr\")\n",
        "plt.xlabel(\"Epochs\")\n",
        "plt.ylabel(\"PSNR\")\n",
        "plt.title(\"Train and Validation PSNR Over Epochs\", fontsize=14)\n",
        "plt.legend()\n",
        "plt.grid()\n",
        "plt.show()"
      ],
      "metadata": {
        "colab": {
          "base_uri": "https://localhost:8080/",
          "height": 627
        },
        "id": "gpHoVWBj-kVn",
        "outputId": "86b766f6-c5b5-4a83-f0c3-5a4c2844e49f"
      },
      "execution_count": 51,
      "outputs": [
        {
          "output_type": "display_data",
          "data": {
            "text/plain": [
              "<Figure size 432x288 with 1 Axes>"
            ],
            "image/png": "[encoded data removed]"
          },
          "metadata": {
            "needs_background": "light"
          }
        },
        {
          "output_type": "stream",
          "name": "stdout",
          "text": [
            "\n",
            " \n",
            "\n"
          ]
        },
        {
          "output_type": "display_data",
          "data": {
            "text/plain": [
              "<Figure size 432x288 with 1 Axes>"
            ],
            "image/png": "[encoded data removed]"
          },
          "metadata": {
            "needs_background": "light"
          }
        }
      ]
    },
    {
      "cell_type": "code",
      "source": [
        "# Visualizing the inference images \n",
        "\n",
        "def plot_results(images , titles , figure_size = (12 ,12)):\n",
        "\n",
        "  fig = plt.figure(figsize = (figure_size))\n",
        "  for i in range(len(images)):\n",
        "    fig.add_subplot(1 , len(images) , i + 1).set_title(titles[i])\n",
        "    _ = plt.imshow(images[i])\n",
        "    plt.axis('off')\n",
        "  plt.show()\n",
        "\n",
        "# Get the prediction \n",
        "\n",
        "from PIL import Image , ImageOps\n",
        "\n",
        "def infer_image(original_image):\n",
        "  image = tf.keras.preprocessing.image.img_to_array(original_image)\n",
        "  image = tf.image.resize(image , size = [124 , 124])\n",
        "  #image = image.astype('float32') / 255.0\n",
        "  image = tf.expand_dims(image , axis = 0)\n",
        "  output = model.predict(image)\n",
        "\n",
        "  output_image = output[0] * 255.0\n",
        "  output_image = output_image.clip(0 , 255)\n",
        "  output_image = output_image.reshape(\n",
        "      (np.shape(output_image)[0] , np.shape(output_image)[1] , 3)\n",
        "  )\n",
        "\n",
        "  output_image = Image.fromarray(np.uint8(output_image))\n",
        "  original_image = Image.fromarray(np.uint8(original_image))\n",
        "\n",
        "  return output_image"
      ],
      "metadata": {
        "id": "9m5Yq3bJ_ZmH"
      },
      "execution_count": 49,
      "outputs": []
    },
    {
      "cell_type": "code",
      "source": [
        "# Get the prediction \n",
        "\n",
        "from PIL import Image , ImageOps\n",
        "\n",
        "def infer_image(original_image):\n",
        "  image = tf.keras.preprocessing.image.img_to_array(original_image)\n",
        "  image = tf.image.resize(image , size = [124 , 124])\n",
        "  #image = image.astype('float32') / 255.0\n",
        "  image = tf.expand_dims(image , axis = 0)\n",
        "  output = model.predict(image)\n",
        "\n",
        "  output_image = output[0] * 255.0\n",
        "  output_image = output_image.clip(0 , 255)\n",
        "  output_image = output_image.reshape(\n",
        "      (np.shape(output_image)[0] , np.shape(output_image)[1] , 3)\n",
        "  )\n",
        "\n",
        "  output_image = Image.fromarray(np.uint8(output_image))\n",
        "  original_image = Image.fromarray(np.uint8(original_image))\n",
        "\n",
        "  return output_image"
      ],
      "metadata": {
        "id": "c8EUyiQOCO_y"
      },
      "execution_count": 70,
      "outputs": []
    },
    {
      "cell_type": "code",
      "source": [
        "import random \n",
        "import numpy as np \n",
        "\n",
        "for noiseImage in random.sample(valInputPaths , 6):\n",
        "  original_image = Image.open(noiseImage)\n",
        "  restored_image = infer_image(original_image)\n",
        "\n",
        "  plot_results(\n",
        "      [original_image , ImageOps.autocontrast(original_image) , restored_image] , \n",
        "      ['Original' , 'PIL Auto Contrast' , 'MIRNet Restored'] , \n",
        "      (20 , 12)\n",
        "  )"
      ],
      "metadata": {
        "id": "H3XV0q6dDW73"
      },
      "execution_count": null,
      "outputs": []
    },
    {
      "cell_type": "code",
      "source": [
        "randomPath = random.choice(valInputPaths)\n",
        "\n",
        "img = read_image(randomPath)\n",
        "img.shape"
      ],
      "metadata": {
        "colab": {
          "base_uri": "https://localhost:8080/"
        },
        "id": "-375rUgIDfBS",
        "outputId": "d794973b-cdc5-4750-fa64-60c5ccb9b86b"
      },
      "execution_count": 79,
      "outputs": [
        {
          "output_type": "execute_result",
          "data": {
            "text/plain": [
              "TensorShape([124, 124, 3])"
            ]
          },
          "metadata": {},
          "execution_count": 79
        }
      ]
    },
    {
      "cell_type": "code",
      "source": [
        "\n",
        "imgArr = tf.keras.utils.img_to_array(img)\n",
        "imgArr = tf.expand_dims(imgArr , axis = 0)\n",
        "imgArr.shape"
      ],
      "metadata": {
        "colab": {
          "base_uri": "https://localhost:8080/"
        },
        "id": "qD6kAwVAGYZt",
        "outputId": "2f7b7fe5-61c1-4554-87f2-563458773c0b"
      },
      "execution_count": 84,
      "outputs": [
        {
          "output_type": "execute_result",
          "data": {
            "text/plain": [
              "TensorShape([1, 124, 124, 3])"
            ]
          },
          "metadata": {},
          "execution_count": 84
        }
      ]
    },
    {
      "cell_type": "code",
      "source": [
        "predImg = model.predict(imgArr)\n",
        "\n",
        "predImg = predImg[0] * 255.0 \n",
        "pred_img = predImg.clip(0 , 255)"
      ],
      "metadata": {
        "id": "EVgyYj6fFbQA"
      },
      "execution_count": 91,
      "outputs": []
    },
    {
      "cell_type": "code",
      "source": [
        "plt.imshow(pred_img)"
      ],
      "metadata": {
        "colab": {
          "base_uri": "https://localhost:8080/",
          "height": 303
        },
        "id": "-sM3GYTYFj6H",
        "outputId": "632f88d9-5365-4365-ac3b-a5eaf92bdd7b"
      },
      "execution_count": 92,
      "outputs": [
        {
          "output_type": "stream",
          "name": "stderr",
          "text": [
            "Clipping input data to the valid range for imshow with RGB data ([0..1] for floats or [0..255] for integers).\n"
          ]
        },
        {
          "output_type": "execute_result",
          "data": {
            "text/plain": [
              "<matplotlib.image.AxesImage at 0x7f611f578c90>"
            ]
          },
          "metadata": {},
          "execution_count": 92
        },
        {
          "output_type": "display_data",
          "data": {
            "text/plain": [
              "<Figure size 432x288 with 1 Axes>"
            ],
            "image/png": "[encoded data removed]"
          },
          "metadata": {
            "needs_background": "light"
          }
        }
      ]
    },
    {
      "cell_type": "code",
      "source": [
        ""
      ],
      "metadata": {
        "id": "ATuWW27BFsUi"
      },
      "execution_count": null,
      "outputs": []
    }
  ]
}