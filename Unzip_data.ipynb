{
  "nbformat": 4,
  "nbformat_minor": 0,
  "metadata": {
    "colab": {
      "name": "Unzip_data.ipynb",
      "provenance": [],
      "collapsed_sections": [],
      "authorship_tag": "ABX9TyMiB8nhIgKwnQlkMWxz5MgL",
      "include_colab_link": true
    },
    "kernelspec": {
      "name": "python3",
      "display_name": "Python 3"
    },
    "language_info": {
      "name": "python"
    }
  },
  "cells": [
    {
      "cell_type": "markdown",
      "metadata": {
        "id": "view-in-github",
        "colab_type": "text"
      },
      "source": [
        "<a href=\"https://colab.research.google.com/github/ashikshafi08/Fingerprint_restoration_with_MIRNet/blob/main/Unzip_data.ipynb\" target=\"_parent\"><img src=\"https://colab.research.google.com/assets/colab-badge.svg\" alt=\"Open In Colab\"/></a>"
      ]
    },
    {
      "cell_type": "code",
      "execution_count": null,
      "metadata": {
        "colab": {
          "base_uri": "https://localhost:8080/"
        },
        "id": "Fug0TxBuQqhO",
        "outputId": "35a31a69-2426-4451-c226-3fd57e6065bf"
      },
      "outputs": [
        {
          "output_type": "stream",
          "name": "stdout",
          "text": [
            "Mounted at /content/drive/\n"
          ]
        }
      ],
      "source": [
        "from google.colab import drive \n",
        "drive.mount('/content/drive/')"
      ]
    },
    {
      "cell_type": "code",
      "source": [
        "# Training data \n",
        "!wget -P /content/drive/MyDrive/final_year/ http://158.109.8.102/Inpainting/Track3/training_input.zip\n",
        "!wget -P /content/drive/MyDrive/final_year/ http://158.109.8.102/Inpainting/Track3/training_ground-truth.zip"
      ],
      "metadata": {
        "id": "wY44Pb6TQvqa",
        "colab": {
          "base_uri": "https://localhost:8080/"
        },
        "outputId": "5b9b2010-f402-4a84-8c3b-fbcefc5535cb"
      },
      "execution_count": 2,
      "outputs": [
        {
          "output_type": "stream",
          "name": "stdout",
          "text": [
            "--2022-05-16 14:29:01--  http://158.109.8.102/Inpainting/Track3/training_input.zip\n",
            "Connecting to 158.109.8.102:80... connected.\n",
            "HTTP request sent, awaiting response... 200 OK\n",
            "Length: 2579851470 (2.4G) [application/zip]\n",
            "Saving to: ‘/content/drive/MyDrive/final_year/training_input.zip’\n",
            "\n",
            "training_input.zip  100%[===================>]   2.40G  7.97MB/s    in 5m 37s  \n",
            "\n",
            "2022-05-16 14:34:39 (7.29 MB/s) - ‘/content/drive/MyDrive/final_year/training_input.zip’ saved [2579851470/2579851470]\n",
            "\n",
            "--2022-05-16 14:34:39--  http://158.109.8.102/Inpainting/Track3/training_ground-truth.zip\n",
            "Connecting to 158.109.8.102:80... connected.\n",
            "HTTP request sent, awaiting response... 200 OK\n",
            "Length: 2551253143 (2.4G) [application/zip]\n",
            "Saving to: ‘/content/drive/MyDrive/final_year/training_ground-truth.zip’\n",
            "\n",
            "training_ground-tru 100%[===================>]   2.38G  9.05MB/s    in 4m 33s  \n",
            "\n",
            "2022-05-16 14:39:12 (8.93 MB/s) - ‘/content/drive/MyDrive/final_year/training_ground-truth.zip’ saved [2551253143/2551253143]\n",
            "\n"
          ]
        }
      ]
    },
    {
      "cell_type": "code",
      "source": [
        "# Validation set \n",
        "!wget -P /content/drive/MyDrive/final_year/ http://158.109.8.102/Inpainting/Track3/validation_input.zip\n",
        "!wget -P /content/drive/MyDrive/final_year/ http://158.109.8.102/Inpainting/Track3/validation_ground-truth.zip"
      ],
      "metadata": {
        "colab": {
          "base_uri": "https://localhost:8080/"
        },
        "id": "HLP8Ze3ZRbtW",
        "outputId": "82f2c155-d39d-498d-fd6b-4adea84d0e84"
      },
      "execution_count": 3,
      "outputs": [
        {
          "output_type": "stream",
          "name": "stdout",
          "text": [
            "--2022-05-16 14:39:14--  http://158.109.8.102/Inpainting/Track3/validation_input.zip\n",
            "Connecting to 158.109.8.102:80... connected.\n",
            "HTTP request sent, awaiting response... 200 OK\n",
            "Length: 287411123 (274M) [application/zip]\n",
            "Saving to: ‘/content/drive/MyDrive/final_year/validation_input.zip’\n",
            "\n",
            "validation_input.zi 100%[===================>] 274.10M  6.93MB/s    in 50s     \n",
            "\n",
            "2022-05-16 14:40:04 (5.52 MB/s) - ‘/content/drive/MyDrive/final_year/validation_input.zip’ saved [287411123/287411123]\n",
            "\n",
            "--2022-05-16 14:40:04--  http://158.109.8.102/Inpainting/Track3/validation_ground-truth.zip\n",
            "Connecting to 158.109.8.102:80... connected.\n",
            "HTTP request sent, awaiting response... 200 OK\n",
            "Length: 284579406 (271M) [application/zip]\n",
            "Saving to: ‘/content/drive/MyDrive/final_year/validation_ground-truth.zip’\n",
            "\n",
            "validation_ground-t 100%[===================>] 271.40M  10.0MB/s    in 40s     \n",
            "\n",
            "2022-05-16 14:40:44 (6.78 MB/s) - ‘/content/drive/MyDrive/final_year/validation_ground-truth.zip’ saved [284579406/284579406]\n",
            "\n"
          ]
        }
      ]
    },
    {
      "cell_type": "code",
      "source": [
        "# !unzip /content/drive/MyDrive/final_year/training_input.zip -d /content/drive/MyDrive/final_year\n",
        "# !unzip  /content/drive/MyDrive/final_year/training_ground-truth.zip -d /content/drive/MyDrive/final_year\n",
        "\n",
        "# !unzip  /content/drive/MyDrive/final_year/validation_ground-truth.zip -d /content/drive/MyDrive/final_year\n",
        "# !unzip  /content/drive/MyDrive/final_year/validation_input.zip -d /content/drive/MyDrive/final_year"
      ],
      "metadata": {
        "id": "iscixVICRoBU"
      },
      "execution_count": 6,
      "outputs": []
    },
    {
      "cell_type": "code",
      "source": [
        "\n",
        "import glob\n",
        "import os \n",
        " # Data paths \n",
        "\n",
        "train_input_path = '/content/drive/MyDrive/final_year/training_input/'\n",
        "train_ground_path = '/content/drive/MyDrive/final_year/training_ground-truth/'\n",
        "\n",
        "val_input_path = '/content/drive/MyDrive/final_year/validation_input/'\n",
        "val_ground_path = '/content/drive/MyDrive/final_year/validation_ground-truth/'\n",
        "\n"
      ],
      "metadata": {
        "id": "mBP0lM5WSFPN"
      },
      "execution_count": 16,
      "outputs": []
    },
    {
      "cell_type": "code",
      "source": [
        "trainInputPaths = sorted(glob.glob(os.path.join(train_input_path , '*.jpg')))\n",
        "trainGroundPaths = sorted(glob.glob(os.path.join(train_ground_path , '*.jpg')))\n",
        "\n",
        "\n",
        "valInputPaths = sorted(glob.glob(os.path.join(val_input_path , '*.jpg')))\n",
        "valGroundPaths = sorted(glob.glob(os.path.join(val_ground_path , '*.jpg')))\n",
        "\n",
        "len(valGroundPaths) , len(valInputPaths)"
      ],
      "metadata": {
        "colab": {
          "base_uri": "https://localhost:8080/"
        },
        "id": "kgPSRsRrk7qT",
        "outputId": "094c1592-3dd4-414b-fc3d-4dbadb8fdd4f"
      },
      "execution_count": 17,
      "outputs": [
        {
          "output_type": "execute_result",
          "data": {
            "text/plain": [
              "(8400, 8400)"
            ]
          },
          "metadata": {},
          "execution_count": 17
        }
      ]
    },
    {
      "cell_type": "code",
      "source": [
        "len(trainInputPaths) , len(trainGroundPaths)"
      ],
      "metadata": {
        "colab": {
          "base_uri": "https://localhost:8080/"
        },
        "id": "Mu25b6sIl07G",
        "outputId": "0b941ebe-764e-442c-b331-c8bad8f7429a"
      },
      "execution_count": 18,
      "outputs": [
        {
          "output_type": "execute_result",
          "data": {
            "text/plain": [
              "(75600, 75600)"
            ]
          },
          "metadata": {},
          "execution_count": 18
        }
      ]
    },
    {
      "cell_type": "code",
      "source": [
        ""
      ],
      "metadata": {
        "id": "239Hdw-8mFWf"
      },
      "execution_count": null,
      "outputs": []
    }
  ]
}