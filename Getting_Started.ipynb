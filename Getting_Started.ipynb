{
  "nbformat": 4,
  "nbformat_minor": 0,
  "metadata": {
    "colab": {
      "name": "Getting_Started.ipynb",
      "provenance": [],
      "collapsed_sections": [],
      "authorship_tag": "ABX9TyMnX3V6cv6lNnyZ/4yGKksP",
      "include_colab_link": true
    },
    "kernelspec": {
      "name": "python3",
      "display_name": "Python 3"
    },
    "language_info": {
      "name": "python"
    }
  },
  "cells": [
    {
      "cell_type": "markdown",
      "metadata": {
        "id": "view-in-github",
        "colab_type": "text"
      },
      "source": [
        "<a href=\"https://colab.research.google.com/github/ashikshafi08/Fingerprint_restoration_with_MIRNet/blob/main/Getting_Started.ipynb\" target=\"_parent\"><img src=\"https://colab.research.google.com/assets/colab-badge.svg\" alt=\"Open In Colab\"/></a>"
      ]
    },
    {
      "cell_type": "code",
      "source": [
        "from google.colab import drive\n",
        "drive.mount('/content/drive/')"
      ],
      "metadata": {
        "colab": {
          "base_uri": "https://localhost:8080/"
        },
        "id": "FLb_quV-Enpl",
        "outputId": "d8e03088-65d8-4756-ed49-4a937ef185aa"
      },
      "execution_count": 3,
      "outputs": [
        {
          "output_type": "stream",
          "name": "stdout",
          "text": [
            "Mounted at /content/drive/\n"
          ]
        }
      ]
    },
    {
      "cell_type": "code",
      "execution_count": 4,
      "metadata": {
        "colab": {
          "base_uri": "https://localhost:8080/"
        },
        "id": "Hk_6gEPrDiDA",
        "outputId": "2eae2914-923a-429b-b79f-4cde55f329f3"
      },
      "outputs": [
        {
          "output_type": "stream",
          "name": "stdout",
          "text": [
            "--2022-05-10 13:07:37--  http://158.109.8.102/Inpainting/Track3/training_input.zip\n",
            "Connecting to 158.109.8.102:80... connected.\n",
            "HTTP request sent, awaiting response... 200 OK\n",
            "Length: 2579851470 (2.4G) [application/zip]\n",
            "Saving to: ‘training_input.zip’\n",
            "\n",
            "training_input.zip  100%[===================>]   2.40G  10.4MB/s    in 3m 35s  \n",
            "\n",
            "2022-05-10 13:11:12 (11.5 MB/s) - ‘training_input.zip’ saved [2579851470/2579851470]\n",
            "\n",
            "--2022-05-10 13:11:12--  http://158.109.8.102/Inpainting/Track3/training_ground-truth.zip\n",
            "Connecting to 158.109.8.102:80... connected.\n",
            "HTTP request sent, awaiting response... 200 OK\n",
            "Length: 2551253143 (2.4G) [application/zip]\n",
            "Saving to: ‘training_ground-truth.zip’\n",
            "\n",
            "training_ground-tru 100%[===================>]   2.38G  20.7MB/s    in 2m 54s  \n",
            "\n",
            "2022-05-10 13:14:07 (14.0 MB/s) - ‘training_ground-truth.zip’ saved [2551253143/2551253143]\n",
            "\n"
          ]
        }
      ],
      "source": [
        "# Training data \n",
        "# !wget http://158.109.8.102/Inpainting/Track3/training_input.zip\n",
        "# !wget http://158.109.8.102/Inpainting/Track3/training_ground-truth.zip"
      ]
    },
    {
      "cell_type": "code",
      "source": [
        "# Validation set \n",
        "# !wget http://158.109.8.102/Inpainting/Track3/validation_input.zip\n",
        "# !wget http://158.109.8.102/Inpainting/Track3/validation_ground-truth.zip"
      ],
      "metadata": {
        "colab": {
          "base_uri": "https://localhost:8080/"
        },
        "id": "GWA7YHeqEt2X",
        "outputId": "1e62facf-5c72-48e2-e596-3735a09938f3"
      },
      "execution_count": 5,
      "outputs": [
        {
          "output_type": "stream",
          "name": "stdout",
          "text": [
            "--2022-05-10 13:14:08--  http://158.109.8.102/Inpainting/Track3/validation_input.zip\n",
            "Connecting to 158.109.8.102:80... connected.\n",
            "HTTP request sent, awaiting response... 200 OK\n",
            "Length: 287411123 (274M) [application/zip]\n",
            "Saving to: ‘validation_input.zip’\n",
            "\n",
            "validation_input.zi 100%[===================>] 274.10M  24.7MB/s    in 27s     \n",
            "\n",
            "2022-05-10 13:14:36 (10.2 MB/s) - ‘validation_input.zip’ saved [287411123/287411123]\n",
            "\n",
            "--2022-05-10 13:14:36--  http://158.109.8.102/Inpainting/Track3/validation_ground-truth.zip\n",
            "Connecting to 158.109.8.102:80... connected.\n",
            "HTTP request sent, awaiting response... 200 OK\n",
            "Length: 284579406 (271M) [application/zip]\n",
            "Saving to: ‘validation_ground-truth.zip’\n",
            "\n",
            "validation_ground-t 100%[===================>] 271.40M  23.9MB/s    in 27s     \n",
            "\n",
            "2022-05-10 13:15:03 (10.0 MB/s) - ‘validation_ground-truth.zip’ saved [284579406/284579406]\n",
            "\n"
          ]
        }
      ]
    },
    {
      "cell_type": "code",
      "source": [
        "# Test set \n",
        "# !wget http://158.109.8.102/Inpainting/Track3/test_input.zip\n",
        "# !wget http://158.109.8.102/Inpainting/Track3/test_ground-truth.zip"
      ],
      "metadata": {
        "colab": {
          "base_uri": "https://localhost:8080/"
        },
        "id": "MbKBkCPQFXSD",
        "outputId": "0ee3adb1-3495-45b9-c7b1-20b33a9051cf"
      },
      "execution_count": 6,
      "outputs": [
        {
          "output_type": "stream",
          "name": "stdout",
          "text": [
            "--2022-05-10 13:15:03--  http://158.109.8.102/Inpainting/Track3/test_input.zip\n",
            "Connecting to 158.109.8.102:80... connected.\n",
            "HTTP request sent, awaiting response... 200 OK\n",
            "Length: 284541917 (271M) [application/zip]\n",
            "Saving to: ‘test_input.zip’\n",
            "\n",
            "test_input.zip      100%[===================>] 271.36M  16.6MB/s    in 28s     \n",
            "\n",
            "2022-05-10 13:15:32 (9.59 MB/s) - ‘test_input.zip’ saved [284541917/284541917]\n",
            "\n",
            "--2022-05-10 13:15:32--  http://158.109.8.102/Inpainting/Track3/test_ground-truth.zip\n",
            "Connecting to 158.109.8.102:80... connected.\n",
            "HTTP request sent, awaiting response... 200 OK\n",
            "Length: 283422556 (270M) [application/zip]\n",
            "Saving to: ‘test_ground-truth.zip’\n",
            "\n",
            "test_ground-truth.z 100%[===================>] 270.29M  22.2MB/s    in 27s     \n",
            "\n",
            "2022-05-10 13:15:59 (9.90 MB/s) - ‘test_ground-truth.zip’ saved [283422556/283422556]\n",
            "\n"
          ]
        }
      ]
    },
    {
      "cell_type": "code",
      "source": [
        "# Data paths \n",
        "\n",
        "train_input_path = '/content/drive/MyDrive/Final_year_project/train/training_input/'\n",
        "train_ground_path = '/content/drive/MyDrive/Final_year_project/train/training_ground-truth/'\n",
        "\n",
        "val_input_path = '/content/drive/MyDrive/Final_year_project/val/validation_input/'\n",
        "val_ground_path = '/content/drive/MyDrive/Final_year_project/val/validation_ground-truth/'"
      ],
      "metadata": {
        "id": "074fxknqIMcj"
      },
      "execution_count": 19,
      "outputs": []
    },
    {
      "cell_type": "code",
      "source": [
        "# How many images in there? \n",
        "\n",
        "import os \n",
        "\n",
        "print(f'There are {len(os.listdir(train_input_path))} training input images')\n",
        "print(f'There are {len(os.listdir(train_ground_path))} training ground truth images')\n",
        "\n",
        "print(f'There are {len(os.listdir(val_input_path))} validation input images')\n",
        "print(f'There are {len(os.listdir(val_ground_path))} validation ground truth images')"
      ],
      "metadata": {
        "colab": {
          "base_uri": "https://localhost:8080/"
        },
        "id": "sotTSnP_Kkq6",
        "outputId": "da8b4576-b2e0-41ee-b002-ccbd77a6b9cc"
      },
      "execution_count": 22,
      "outputs": [
        {
          "output_type": "stream",
          "name": "stdout",
          "text": [
            "There are 75600 training input images\n",
            "There are 75600 training ground truth images\n",
            "There are 8400 validation input images\n",
            "There are 8400 validation ground truth images\n"
          ]
        }
      ]
    },
    {
      "cell_type": "code",
      "source": [
        ""
      ],
      "metadata": {
        "id": "fD0bC7_cbCpE"
      },
      "execution_count": null,
      "outputs": []
    }
  ]
}